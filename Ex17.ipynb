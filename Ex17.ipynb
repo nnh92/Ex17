{
  "nbformat": 4,
  "nbformat_minor": 0,
  "metadata": {
    "colab": {
      "provenance": [],
      "authorship_tag": "ABX9TyP+VwNQDghH0ldCy1+cFU2w",
      "include_colab_link": true
    },
    "kernelspec": {
      "name": "python3",
      "display_name": "Python 3"
    },
    "language_info": {
      "name": "python"
    }
  },
  "cells": [
    {
      "cell_type": "markdown",
      "metadata": {
        "id": "view-in-github",
        "colab_type": "text"
      },
      "source": [
        "<a href=\"https://colab.research.google.com/github/nnh92/Ex17/blob/main/Ex17.ipynb\" target=\"_parent\"><img src=\"https://colab.research.google.com/assets/colab-badge.svg\" alt=\"Open In Colab\"/></a>"
      ]
    },
    {
      "cell_type": "code",
      "execution_count": null,
      "metadata": {
        "colab": {
          "base_uri": "https://localhost:8080/"
        },
        "id": "eX4JIZOCemwG",
        "outputId": "e6b9a38f-e357-4445-e8ef-ba3ab3ca881f"
      },
      "outputs": [
        {
          "output_type": "stream",
          "name": "stdout",
          "text": [
            "5 8 6\n",
            "5.0, 8.0, 6.0 la 3 canh cua tam giac\n"
          ]
        }
      ],
      "source": [
        "a,b,c = map(float,input().split())\n",
        "\n",
        "if a> b + c or b> c+ a or c> a+ b:\n",
        "  print('{}, {}, {} khong phai 3 canh cua tam giac'.format(a, b, c))\n",
        "\n",
        "else: print('{}, {}, {} la 3 canh cua tam giac'.format(a, b, c))\n",
        "\n"
      ]
    }
  ]
}